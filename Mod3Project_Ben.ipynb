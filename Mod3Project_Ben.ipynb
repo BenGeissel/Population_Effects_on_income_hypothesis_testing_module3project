{
 "cells": [
  {
   "cell_type": "code",
   "execution_count": 69,
   "metadata": {},
   "outputs": [],
   "source": [
    "import requests\n",
    "import json\n",
    "import pandas as pd\n",
    "import geopandas as gpd\n",
    "import numpy as np\n",
    "import matplotlib.pyplot as plt\n",
    "%matplotlib inline\n",
    "import seaborn as sns\n",
    "import csv\n",
    "import math\n",
    "import descartes\n",
    "import geoplot\n",
    "import plotly.figure_factory as ff"
   ]
  },
  {
   "cell_type": "code",
   "execution_count": 3,
   "metadata": {},
   "outputs": [],
   "source": [
    "api_key = 'b75abaaeb7e41a94fca6dce80b3eeac5289e46a9'"
   ]
  },
  {
   "cell_type": "code",
   "execution_count": 19,
   "metadata": {},
   "outputs": [
    {
     "data": {
      "text/plain": [
       "200"
      ]
     },
     "execution_count": 19,
     "metadata": {},
     "output_type": "execute_result"
    }
   ],
   "source": [
    "resp = requests.get(f'http://api.census.gov/data/2018/pep/population?get=POP&for=county:*&key={api_key}')\n",
    "resp.status_code"
   ]
  },
  {
   "cell_type": "code",
   "execution_count": 28,
   "metadata": {},
   "outputs": [],
   "source": [
    "poplist = resp.json()\n",
    "pop_df = pd.DataFrame(poplist[1:], columns = poplist[0])\n",
    "pop_df['FIPS'] = pop_df.state + pop_df.county\n",
    "pop_df.POP = pop_df.POP.astype('int')"
   ]
  },
  {
   "cell_type": "code",
   "execution_count": 48,
   "metadata": {},
   "outputs": [
    {
     "data": {
      "text/html": [
       "<div>\n",
       "<style scoped>\n",
       "    .dataframe tbody tr th:only-of-type {\n",
       "        vertical-align: middle;\n",
       "    }\n",
       "\n",
       "    .dataframe tbody tr th {\n",
       "        vertical-align: top;\n",
       "    }\n",
       "\n",
       "    .dataframe thead th {\n",
       "        text-align: right;\n",
       "    }\n",
       "</style>\n",
       "<table border=\"1\" class=\"dataframe\">\n",
       "  <thead>\n",
       "    <tr style=\"text-align: right;\">\n",
       "      <th></th>\n",
       "      <th>POP</th>\n",
       "      <th>state</th>\n",
       "      <th>county</th>\n",
       "      <th>FIPS</th>\n",
       "    </tr>\n",
       "  </thead>\n",
       "  <tbody>\n",
       "    <tr>\n",
       "      <td>0</td>\n",
       "      <td>55601</td>\n",
       "      <td>01</td>\n",
       "      <td>001</td>\n",
       "      <td>01001</td>\n",
       "    </tr>\n",
       "    <tr>\n",
       "      <td>1</td>\n",
       "      <td>218022</td>\n",
       "      <td>01</td>\n",
       "      <td>003</td>\n",
       "      <td>01003</td>\n",
       "    </tr>\n",
       "    <tr>\n",
       "      <td>2</td>\n",
       "      <td>24881</td>\n",
       "      <td>01</td>\n",
       "      <td>005</td>\n",
       "      <td>01005</td>\n",
       "    </tr>\n",
       "    <tr>\n",
       "      <td>3</td>\n",
       "      <td>22400</td>\n",
       "      <td>01</td>\n",
       "      <td>007</td>\n",
       "      <td>01007</td>\n",
       "    </tr>\n",
       "    <tr>\n",
       "      <td>4</td>\n",
       "      <td>57840</td>\n",
       "      <td>01</td>\n",
       "      <td>009</td>\n",
       "      <td>01009</td>\n",
       "    </tr>\n",
       "  </tbody>\n",
       "</table>\n",
       "</div>"
      ],
      "text/plain": [
       "      POP state county   FIPS\n",
       "0   55601    01    001  01001\n",
       "1  218022    01    003  01003\n",
       "2   24881    01    005  01005\n",
       "3   22400    01    007  01007\n",
       "4   57840    01    009  01009"
      ]
     },
     "execution_count": 48,
     "metadata": {},
     "output_type": "execute_result"
    }
   ],
   "source": [
    "pop_df.head()"
   ]
  },
  {
   "cell_type": "code",
   "execution_count": 49,
   "metadata": {},
   "outputs": [
    {
     "name": "stdout",
     "output_type": "stream",
     "text": [
      "<class 'pandas.core.frame.DataFrame'>\n",
      "RangeIndex: 3220 entries, 0 to 3219\n",
      "Data columns (total 4 columns):\n",
      "POP       3220 non-null int64\n",
      "state     3220 non-null object\n",
      "county    3220 non-null object\n",
      "FIPS      3220 non-null object\n",
      "dtypes: int64(1), object(3)\n",
      "memory usage: 100.8+ KB\n"
     ]
    }
   ],
   "source": [
    "pop_df.info()"
   ]
  },
  {
   "cell_type": "code",
   "execution_count": 37,
   "metadata": {},
   "outputs": [],
   "source": [
    "rural_lookup = pd.read_excel('County_Rural_Lookup.xlsx', skiprows = 3)"
   ]
  },
  {
   "cell_type": "code",
   "execution_count": 40,
   "metadata": {},
   "outputs": [],
   "source": [
    "rural_lookup.drop(rural_lookup.tail(6).index,inplace=True)"
   ]
  },
  {
   "cell_type": "code",
   "execution_count": 43,
   "metadata": {},
   "outputs": [],
   "source": [
    "del rural_lookup['Note']\n",
    "del rural_lookup['Unnamed: 8']"
   ]
  },
  {
   "cell_type": "code",
   "execution_count": 45,
   "metadata": {},
   "outputs": [],
   "source": [
    "rural_lookup.columns = ['FIPS', 'State', 'County_State', 'Total_pop', 'Urban_pop', 'Rural_pop', 'Percent_Rural']"
   ]
  },
  {
   "cell_type": "code",
   "execution_count": 47,
   "metadata": {},
   "outputs": [
    {
     "name": "stdout",
     "output_type": "stream",
     "text": [
      "<class 'pandas.core.frame.DataFrame'>\n",
      "Int64Index: 3142 entries, 0 to 3141\n",
      "Data columns (total 7 columns):\n",
      "FIPS             3142 non-null object\n",
      "State            3142 non-null object\n",
      "County_State     3142 non-null object\n",
      "Total_pop        3142 non-null float64\n",
      "Urban_pop        3142 non-null float64\n",
      "Rural_pop        3142 non-null float64\n",
      "Percent_Rural    3142 non-null float64\n",
      "dtypes: float64(4), object(3)\n",
      "memory usage: 196.4+ KB\n"
     ]
    }
   ],
   "source": [
    "rural_lookup.info()"
   ]
  },
  {
   "cell_type": "code",
   "execution_count": 50,
   "metadata": {},
   "outputs": [
    {
     "data": {
      "text/html": [
       "<div>\n",
       "<style scoped>\n",
       "    .dataframe tbody tr th:only-of-type {\n",
       "        vertical-align: middle;\n",
       "    }\n",
       "\n",
       "    .dataframe tbody tr th {\n",
       "        vertical-align: top;\n",
       "    }\n",
       "\n",
       "    .dataframe thead th {\n",
       "        text-align: right;\n",
       "    }\n",
       "</style>\n",
       "<table border=\"1\" class=\"dataframe\">\n",
       "  <thead>\n",
       "    <tr style=\"text-align: right;\">\n",
       "      <th></th>\n",
       "      <th>FIPS</th>\n",
       "      <th>State</th>\n",
       "      <th>County_State</th>\n",
       "      <th>Total_pop</th>\n",
       "      <th>Urban_pop</th>\n",
       "      <th>Rural_pop</th>\n",
       "      <th>Percent_Rural</th>\n",
       "    </tr>\n",
       "  </thead>\n",
       "  <tbody>\n",
       "    <tr>\n",
       "      <td>0</td>\n",
       "      <td>01001</td>\n",
       "      <td>AL</td>\n",
       "      <td>Autauga County, Alabama</td>\n",
       "      <td>54571.0</td>\n",
       "      <td>31650.0</td>\n",
       "      <td>22921.0</td>\n",
       "      <td>42.002162</td>\n",
       "    </tr>\n",
       "    <tr>\n",
       "      <td>1</td>\n",
       "      <td>01003</td>\n",
       "      <td>AL</td>\n",
       "      <td>Baldwin County, Alabama</td>\n",
       "      <td>182265.0</td>\n",
       "      <td>105205.0</td>\n",
       "      <td>77060.0</td>\n",
       "      <td>42.279099</td>\n",
       "    </tr>\n",
       "    <tr>\n",
       "      <td>2</td>\n",
       "      <td>01005</td>\n",
       "      <td>AL</td>\n",
       "      <td>Barbour County, Alabama</td>\n",
       "      <td>27457.0</td>\n",
       "      <td>8844.0</td>\n",
       "      <td>18613.0</td>\n",
       "      <td>67.789635</td>\n",
       "    </tr>\n",
       "    <tr>\n",
       "      <td>3</td>\n",
       "      <td>01007</td>\n",
       "      <td>AL</td>\n",
       "      <td>Bibb County, Alabama</td>\n",
       "      <td>22915.0</td>\n",
       "      <td>7252.0</td>\n",
       "      <td>15663.0</td>\n",
       "      <td>68.352607</td>\n",
       "    </tr>\n",
       "    <tr>\n",
       "      <td>4</td>\n",
       "      <td>01009</td>\n",
       "      <td>AL</td>\n",
       "      <td>Blount County, Alabama</td>\n",
       "      <td>57322.0</td>\n",
       "      <td>5760.0</td>\n",
       "      <td>51562.0</td>\n",
       "      <td>89.951502</td>\n",
       "    </tr>\n",
       "  </tbody>\n",
       "</table>\n",
       "</div>"
      ],
      "text/plain": [
       "    FIPS State             County_State  Total_pop  Urban_pop  Rural_pop  \\\n",
       "0  01001    AL  Autauga County, Alabama    54571.0    31650.0    22921.0   \n",
       "1  01003    AL  Baldwin County, Alabama   182265.0   105205.0    77060.0   \n",
       "2  01005    AL  Barbour County, Alabama    27457.0     8844.0    18613.0   \n",
       "3  01007    AL     Bibb County, Alabama    22915.0     7252.0    15663.0   \n",
       "4  01009    AL   Blount County, Alabama    57322.0     5760.0    51562.0   \n",
       "\n",
       "   Percent_Rural  \n",
       "0      42.002162  \n",
       "1      42.279099  \n",
       "2      67.789635  \n",
       "3      68.352607  \n",
       "4      89.951502  "
      ]
     },
     "execution_count": 50,
     "metadata": {},
     "output_type": "execute_result"
    }
   ],
   "source": [
    "rural_lookup.head()"
   ]
  },
  {
   "cell_type": "code",
   "execution_count": 53,
   "metadata": {},
   "outputs": [
    {
     "data": {
      "text/html": [
       "<div>\n",
       "<style scoped>\n",
       "    .dataframe tbody tr th:only-of-type {\n",
       "        vertical-align: middle;\n",
       "    }\n",
       "\n",
       "    .dataframe tbody tr th {\n",
       "        vertical-align: top;\n",
       "    }\n",
       "\n",
       "    .dataframe thead th {\n",
       "        text-align: right;\n",
       "    }\n",
       "</style>\n",
       "<table border=\"1\" class=\"dataframe\">\n",
       "  <thead>\n",
       "    <tr style=\"text-align: right;\">\n",
       "      <th></th>\n",
       "      <th>POP</th>\n",
       "      <th>state</th>\n",
       "      <th>county</th>\n",
       "      <th>FIPS</th>\n",
       "      <th>State</th>\n",
       "      <th>County_State</th>\n",
       "      <th>Total_pop</th>\n",
       "      <th>Urban_pop</th>\n",
       "      <th>Rural_pop</th>\n",
       "      <th>Percent_Rural</th>\n",
       "    </tr>\n",
       "  </thead>\n",
       "  <tbody>\n",
       "    <tr>\n",
       "      <td>0</td>\n",
       "      <td>55601</td>\n",
       "      <td>01</td>\n",
       "      <td>001</td>\n",
       "      <td>01001</td>\n",
       "      <td>AL</td>\n",
       "      <td>Autauga County, Alabama</td>\n",
       "      <td>54571.0</td>\n",
       "      <td>31650.0</td>\n",
       "      <td>22921.0</td>\n",
       "      <td>42.002162</td>\n",
       "    </tr>\n",
       "    <tr>\n",
       "      <td>1</td>\n",
       "      <td>218022</td>\n",
       "      <td>01</td>\n",
       "      <td>003</td>\n",
       "      <td>01003</td>\n",
       "      <td>AL</td>\n",
       "      <td>Baldwin County, Alabama</td>\n",
       "      <td>182265.0</td>\n",
       "      <td>105205.0</td>\n",
       "      <td>77060.0</td>\n",
       "      <td>42.279099</td>\n",
       "    </tr>\n",
       "    <tr>\n",
       "      <td>2</td>\n",
       "      <td>24881</td>\n",
       "      <td>01</td>\n",
       "      <td>005</td>\n",
       "      <td>01005</td>\n",
       "      <td>AL</td>\n",
       "      <td>Barbour County, Alabama</td>\n",
       "      <td>27457.0</td>\n",
       "      <td>8844.0</td>\n",
       "      <td>18613.0</td>\n",
       "      <td>67.789635</td>\n",
       "    </tr>\n",
       "    <tr>\n",
       "      <td>3</td>\n",
       "      <td>22400</td>\n",
       "      <td>01</td>\n",
       "      <td>007</td>\n",
       "      <td>01007</td>\n",
       "      <td>AL</td>\n",
       "      <td>Bibb County, Alabama</td>\n",
       "      <td>22915.0</td>\n",
       "      <td>7252.0</td>\n",
       "      <td>15663.0</td>\n",
       "      <td>68.352607</td>\n",
       "    </tr>\n",
       "    <tr>\n",
       "      <td>4</td>\n",
       "      <td>57840</td>\n",
       "      <td>01</td>\n",
       "      <td>009</td>\n",
       "      <td>01009</td>\n",
       "      <td>AL</td>\n",
       "      <td>Blount County, Alabama</td>\n",
       "      <td>57322.0</td>\n",
       "      <td>5760.0</td>\n",
       "      <td>51562.0</td>\n",
       "      <td>89.951502</td>\n",
       "    </tr>\n",
       "  </tbody>\n",
       "</table>\n",
       "</div>"
      ],
      "text/plain": [
       "      POP state county   FIPS State             County_State  Total_pop  \\\n",
       "0   55601    01    001  01001    AL  Autauga County, Alabama    54571.0   \n",
       "1  218022    01    003  01003    AL  Baldwin County, Alabama   182265.0   \n",
       "2   24881    01    005  01005    AL  Barbour County, Alabama    27457.0   \n",
       "3   22400    01    007  01007    AL     Bibb County, Alabama    22915.0   \n",
       "4   57840    01    009  01009    AL   Blount County, Alabama    57322.0   \n",
       "\n",
       "   Urban_pop  Rural_pop  Percent_Rural  \n",
       "0    31650.0    22921.0      42.002162  \n",
       "1   105205.0    77060.0      42.279099  \n",
       "2     8844.0    18613.0      67.789635  \n",
       "3     7252.0    15663.0      68.352607  \n",
       "4     5760.0    51562.0      89.951502  "
      ]
     },
     "execution_count": 53,
     "metadata": {},
     "output_type": "execute_result"
    }
   ],
   "source": [
    "pop_df1 = pop_df.merge(rural_lookup, on = 'FIPS', how = 'inner')\n",
    "pop_df1.head()"
   ]
  },
  {
   "cell_type": "code",
   "execution_count": 55,
   "metadata": {},
   "outputs": [
    {
     "data": {
      "text/html": [
       "<div>\n",
       "<style scoped>\n",
       "    .dataframe tbody tr th:only-of-type {\n",
       "        vertical-align: middle;\n",
       "    }\n",
       "\n",
       "    .dataframe tbody tr th {\n",
       "        vertical-align: top;\n",
       "    }\n",
       "\n",
       "    .dataframe thead th {\n",
       "        text-align: right;\n",
       "    }\n",
       "</style>\n",
       "<table border=\"1\" class=\"dataframe\">\n",
       "  <thead>\n",
       "    <tr style=\"text-align: right;\">\n",
       "      <th></th>\n",
       "      <th>POP</th>\n",
       "      <th>Total_pop</th>\n",
       "      <th>Urban_pop</th>\n",
       "      <th>Rural_pop</th>\n",
       "      <th>Percent_Rural</th>\n",
       "    </tr>\n",
       "  </thead>\n",
       "  <tbody>\n",
       "    <tr>\n",
       "      <td>count</td>\n",
       "      <td>3.142000e+03</td>\n",
       "      <td>3.142000e+03</td>\n",
       "      <td>3.142000e+03</td>\n",
       "      <td>3142.000000</td>\n",
       "      <td>3142.000000</td>\n",
       "    </tr>\n",
       "    <tr>\n",
       "      <td>mean</td>\n",
       "      <td>1.041271e+05</td>\n",
       "      <td>9.826220e+04</td>\n",
       "      <td>7.932755e+04</td>\n",
       "      <td>18934.482177</td>\n",
       "      <td>58.668348</td>\n",
       "    </tr>\n",
       "    <tr>\n",
       "      <td>std</td>\n",
       "      <td>3.334863e+05</td>\n",
       "      <td>3.129477e+05</td>\n",
       "      <td>3.089908e+05</td>\n",
       "      <td>16666.280976</td>\n",
       "      <td>31.501511</td>\n",
       "    </tr>\n",
       "    <tr>\n",
       "      <td>min</td>\n",
       "      <td>8.800000e+01</td>\n",
       "      <td>8.200000e+01</td>\n",
       "      <td>0.000000e+00</td>\n",
       "      <td>0.000000</td>\n",
       "      <td>0.000000</td>\n",
       "    </tr>\n",
       "    <tr>\n",
       "      <td>25%</td>\n",
       "      <td>1.092650e+04</td>\n",
       "      <td>1.111450e+04</td>\n",
       "      <td>2.566250e+03</td>\n",
       "      <td>7056.500000</td>\n",
       "      <td>33.379442</td>\n",
       "    </tr>\n",
       "    <tr>\n",
       "      <td>50%</td>\n",
       "      <td>2.575850e+04</td>\n",
       "      <td>2.587200e+04</td>\n",
       "      <td>9.179500e+03</td>\n",
       "      <td>14240.000000</td>\n",
       "      <td>59.537911</td>\n",
       "    </tr>\n",
       "    <tr>\n",
       "      <td>75%</td>\n",
       "      <td>6.782050e+04</td>\n",
       "      <td>6.678000e+04</td>\n",
       "      <td>3.764700e+04</td>\n",
       "      <td>25553.500000</td>\n",
       "      <td>88.293167</td>\n",
       "    </tr>\n",
       "    <tr>\n",
       "      <td>max</td>\n",
       "      <td>1.010552e+07</td>\n",
       "      <td>9.818605e+06</td>\n",
       "      <td>9.759181e+06</td>\n",
       "      <td>146856.000000</td>\n",
       "      <td>100.000000</td>\n",
       "    </tr>\n",
       "  </tbody>\n",
       "</table>\n",
       "</div>"
      ],
      "text/plain": [
       "                POP     Total_pop     Urban_pop      Rural_pop  Percent_Rural\n",
       "count  3.142000e+03  3.142000e+03  3.142000e+03    3142.000000    3142.000000\n",
       "mean   1.041271e+05  9.826220e+04  7.932755e+04   18934.482177      58.668348\n",
       "std    3.334863e+05  3.129477e+05  3.089908e+05   16666.280976      31.501511\n",
       "min    8.800000e+01  8.200000e+01  0.000000e+00       0.000000       0.000000\n",
       "25%    1.092650e+04  1.111450e+04  2.566250e+03    7056.500000      33.379442\n",
       "50%    2.575850e+04  2.587200e+04  9.179500e+03   14240.000000      59.537911\n",
       "75%    6.782050e+04  6.678000e+04  3.764700e+04   25553.500000      88.293167\n",
       "max    1.010552e+07  9.818605e+06  9.759181e+06  146856.000000     100.000000"
      ]
     },
     "execution_count": 55,
     "metadata": {},
     "output_type": "execute_result"
    }
   ],
   "source": [
    "pop_df1.describe()"
   ]
  },
  {
   "cell_type": "code",
   "execution_count": 59,
   "metadata": {},
   "outputs": [],
   "source": [
    "def rural_marker(percent):\n",
    "    marker = None\n",
    "    if percent <= 30:\n",
    "        marker = 'Urban'\n",
    "    elif percent <= 70:\n",
    "        marker = 'Mix/Suburban'\n",
    "    else:\n",
    "        marker = 'Rural'\n",
    "    return marker"
   ]
  },
  {
   "cell_type": "code",
   "execution_count": 60,
   "metadata": {},
   "outputs": [],
   "source": [
    "pop_df1['pop_category'] = pop_df1.Percent_Rural.map(lambda x: rural_marker(x))"
   ]
  },
  {
   "cell_type": "code",
   "execution_count": 61,
   "metadata": {},
   "outputs": [
    {
     "data": {
      "text/html": [
       "<div>\n",
       "<style scoped>\n",
       "    .dataframe tbody tr th:only-of-type {\n",
       "        vertical-align: middle;\n",
       "    }\n",
       "\n",
       "    .dataframe tbody tr th {\n",
       "        vertical-align: top;\n",
       "    }\n",
       "\n",
       "    .dataframe thead th {\n",
       "        text-align: right;\n",
       "    }\n",
       "</style>\n",
       "<table border=\"1\" class=\"dataframe\">\n",
       "  <thead>\n",
       "    <tr style=\"text-align: right;\">\n",
       "      <th></th>\n",
       "      <th>POP</th>\n",
       "      <th>state</th>\n",
       "      <th>county</th>\n",
       "      <th>FIPS</th>\n",
       "      <th>State</th>\n",
       "      <th>County_State</th>\n",
       "      <th>Total_pop</th>\n",
       "      <th>Urban_pop</th>\n",
       "      <th>Rural_pop</th>\n",
       "      <th>Percent_Rural</th>\n",
       "      <th>pop_category</th>\n",
       "    </tr>\n",
       "  </thead>\n",
       "  <tbody>\n",
       "    <tr>\n",
       "      <td>0</td>\n",
       "      <td>55601</td>\n",
       "      <td>01</td>\n",
       "      <td>001</td>\n",
       "      <td>01001</td>\n",
       "      <td>AL</td>\n",
       "      <td>Autauga County, Alabama</td>\n",
       "      <td>54571.0</td>\n",
       "      <td>31650.0</td>\n",
       "      <td>22921.0</td>\n",
       "      <td>42.002162</td>\n",
       "      <td>Mix/Suburban</td>\n",
       "    </tr>\n",
       "    <tr>\n",
       "      <td>1</td>\n",
       "      <td>218022</td>\n",
       "      <td>01</td>\n",
       "      <td>003</td>\n",
       "      <td>01003</td>\n",
       "      <td>AL</td>\n",
       "      <td>Baldwin County, Alabama</td>\n",
       "      <td>182265.0</td>\n",
       "      <td>105205.0</td>\n",
       "      <td>77060.0</td>\n",
       "      <td>42.279099</td>\n",
       "      <td>Mix/Suburban</td>\n",
       "    </tr>\n",
       "    <tr>\n",
       "      <td>2</td>\n",
       "      <td>24881</td>\n",
       "      <td>01</td>\n",
       "      <td>005</td>\n",
       "      <td>01005</td>\n",
       "      <td>AL</td>\n",
       "      <td>Barbour County, Alabama</td>\n",
       "      <td>27457.0</td>\n",
       "      <td>8844.0</td>\n",
       "      <td>18613.0</td>\n",
       "      <td>67.789635</td>\n",
       "      <td>Mix/Suburban</td>\n",
       "    </tr>\n",
       "    <tr>\n",
       "      <td>3</td>\n",
       "      <td>22400</td>\n",
       "      <td>01</td>\n",
       "      <td>007</td>\n",
       "      <td>01007</td>\n",
       "      <td>AL</td>\n",
       "      <td>Bibb County, Alabama</td>\n",
       "      <td>22915.0</td>\n",
       "      <td>7252.0</td>\n",
       "      <td>15663.0</td>\n",
       "      <td>68.352607</td>\n",
       "      <td>Mix/Suburban</td>\n",
       "    </tr>\n",
       "    <tr>\n",
       "      <td>4</td>\n",
       "      <td>57840</td>\n",
       "      <td>01</td>\n",
       "      <td>009</td>\n",
       "      <td>01009</td>\n",
       "      <td>AL</td>\n",
       "      <td>Blount County, Alabama</td>\n",
       "      <td>57322.0</td>\n",
       "      <td>5760.0</td>\n",
       "      <td>51562.0</td>\n",
       "      <td>89.951502</td>\n",
       "      <td>Rural</td>\n",
       "    </tr>\n",
       "  </tbody>\n",
       "</table>\n",
       "</div>"
      ],
      "text/plain": [
       "      POP state county   FIPS State             County_State  Total_pop  \\\n",
       "0   55601    01    001  01001    AL  Autauga County, Alabama    54571.0   \n",
       "1  218022    01    003  01003    AL  Baldwin County, Alabama   182265.0   \n",
       "2   24881    01    005  01005    AL  Barbour County, Alabama    27457.0   \n",
       "3   22400    01    007  01007    AL     Bibb County, Alabama    22915.0   \n",
       "4   57840    01    009  01009    AL   Blount County, Alabama    57322.0   \n",
       "\n",
       "   Urban_pop  Rural_pop  Percent_Rural  pop_category  \n",
       "0    31650.0    22921.0      42.002162  Mix/Suburban  \n",
       "1   105205.0    77060.0      42.279099  Mix/Suburban  \n",
       "2     8844.0    18613.0      67.789635  Mix/Suburban  \n",
       "3     7252.0    15663.0      68.352607  Mix/Suburban  \n",
       "4     5760.0    51562.0      89.951502         Rural  "
      ]
     },
     "execution_count": 61,
     "metadata": {},
     "output_type": "execute_result"
    }
   ],
   "source": [
    "pop_df1.head()"
   ]
  },
  {
   "cell_type": "code",
   "execution_count": 68,
   "metadata": {},
   "outputs": [
    {
     "data": {
      "text/plain": [
       "Mix/Suburban    1241\n",
       "Rural           1213\n",
       "Urban            688\n",
       "Name: pop_category, dtype: int64"
      ]
     },
     "execution_count": 68,
     "metadata": {},
     "output_type": "execute_result"
    }
   ],
   "source": [
    "pop_df1.pop_category.value_counts()"
   ]
  },
  {
   "cell_type": "code",
   "execution_count": 71,
   "metadata": {},
   "outputs": [
    {
     "data": {
      "text/plain": [
       "<matplotlib.axes._subplots.AxesSubplot at 0x1a243415f8>"
      ]
     },
     "execution_count": 71,
     "metadata": {},
     "output_type": "execute_result"
    },
    {
     "data": {
      "image/png": "[encoded data removed]",
      "text/plain": [
       "<Figure size 432x288 with 1 Axes>"
      ]
     },
     "metadata": {
      "needs_background": "light"
     },
     "output_type": "display_data"
    }
   ],
   "source": [
    "pop_df1.POP.hist(bins = 100)"
   ]
  },
  {
   "cell_type": "code",
   "execution_count": null,
   "metadata": {},
   "outputs": [],
   "source": []
  }
 ],
 "metadata": {
  "kernelspec": {
   "display_name": "Python 3",
   "language": "python",
   "name": "python3"
  },
  "language_info": {
   "codemirror_mode": {
    "name": "ipython",
    "version": 3
   },
   "file_extension": ".py",
   "mimetype": "text/x-python",
   "name": "python",
   "nbconvert_exporter": "python",
   "pygments_lexer": "ipython3",
   "version": "3.6.9"
  }
 },
 "nbformat": 4,
 "nbformat_minor": 4
}
