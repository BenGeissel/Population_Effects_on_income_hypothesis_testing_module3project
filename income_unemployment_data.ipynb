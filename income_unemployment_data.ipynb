{
 "cells": [
  {
   "cell_type": "code",
   "execution_count": 157,
   "metadata": {},
   "outputs": [],
   "source": [
    "import pandas as pd\n",
    "import numpy as np\n",
    "import matplotlib.pyplot as plt\n",
    "import seaborn as sns\n",
    "import scipy.stats as st\n",
    "%matplotlib inline\n",
    "%reload_ext autoreload\n",
    "%autoreload 2"
   ]
  },
  {
   "cell_type": "markdown",
   "metadata": {},
   "source": [
    "#### Load, Visualize and General: Unemployment Dataset"
   ]
  },
  {
   "cell_type": "code",
   "execution_count": 123,
   "metadata": {},
   "outputs": [],
   "source": [
    "\n",
    "df = pd.read_csv('Unemployment.csv') #import dataset"
   ]
  },
  {
   "cell_type": "code",
   "execution_count": 124,
   "metadata": {},
   "outputs": [
    {
     "data": {
      "text/plain": [
       "Index(['FIPS', 'State', 'Area_name', 'Rural_urban_continuum_code_2013',\n",
       "       'Urban_influence_code_2013', 'Metro_2013',\n",
       "       ' Civilian_labor_force_2007 ', ' Employed_2007 ', ' Unemployed_2007 ',\n",
       "       'Unemployment_rate_2007', ' Civilian_labor_force_2008 ',\n",
       "       ' Employed_2008 ', ' Unemployed_2008 ', 'Unemployment_rate_2008',\n",
       "       'Civilian_labor_force_2009', 'Employed_2009', 'Unemployed_2009',\n",
       "       'Unemployment_rate_2009', ' Civilian_labor_force_2010 ',\n",
       "       ' Employed_2010 ', ' Unemployed_2010 ', 'Unemployment_rate_2010',\n",
       "       ' Civilian_labor_force_2011 ', ' Employed_2011 ', ' Unemployed_2011 ',\n",
       "       'Unemployment_rate_2011', ' Civilian_labor_force_2012 ',\n",
       "       ' Employed_2012 ', ' Unemployed_2012 ', 'Unemployment_rate_2012',\n",
       "       ' Civilian_labor_force_2013 ', ' Employed_2013 ', ' Unemployed_2013 ',\n",
       "       'Unemployment_rate_2013', ' Civilian_labor_force_2014 ',\n",
       "       ' Employed_2014 ', ' Unemployed_2014 ', 'Unemployment_rate_2014',\n",
       "       ' Civilian_labor_force_2015 ', ' Employed_2015 ', ' Unemployed_2015 ',\n",
       "       'Unemployment_rate_2015', ' Civilian_labor_force_2016 ',\n",
       "       ' Employed_2016 ', ' Unemployed_2016 ', 'Unemployment_rate_2016',\n",
       "       'Civilian_labor_force_2017', 'Employed_2017', 'Unemployed_2017',\n",
       "       'Unemployment_rate_2017', 'Civilian_labor_force_2018', 'Employed_2018',\n",
       "       'Unemployed_2018', 'Unemployment_rate_2018',\n",
       "       'Median_Household_Income_2017',\n",
       "       'Med_HH_Income_Percent_of_State_Total_2017'],\n",
       "      dtype='object')"
      ]
     },
     "execution_count": 124,
     "metadata": {},
     "output_type": "execute_result"
    }
   ],
   "source": [
    "df.columns"
   ]
  },
  {
   "cell_type": "markdown",
   "metadata": {},
   "source": [
    "#### Data Cleaning: Median_Household_Income_2017"
   ]
  },
  {
   "cell_type": "code",
   "execution_count": 125,
   "metadata": {},
   "outputs": [],
   "source": [
    "df_2017= df[['FIPS',\"State\",\"Area_name\",\"Unemployment_rate_2017\",\"Median_Household_Income_2017\"]]"
   ]
  },
  {
   "cell_type": "code",
   "execution_count": 126,
   "metadata": {},
   "outputs": [],
   "source": [
    "df_2017 = df_2017.dropna()"
   ]
  },
  {
   "cell_type": "code",
   "execution_count": 127,
   "metadata": {},
   "outputs": [
    {
     "data": {
      "text/html": [
       "<div>\n",
       "<style scoped>\n",
       "    .dataframe tbody tr th:only-of-type {\n",
       "        vertical-align: middle;\n",
       "    }\n",
       "\n",
       "    .dataframe tbody tr th {\n",
       "        vertical-align: top;\n",
       "    }\n",
       "\n",
       "    .dataframe thead th {\n",
       "        text-align: right;\n",
       "    }\n",
       "</style>\n",
       "<table border=\"1\" class=\"dataframe\">\n",
       "  <thead>\n",
       "    <tr style=\"text-align: right;\">\n",
       "      <th></th>\n",
       "      <th>FIPS</th>\n",
       "      <th>State</th>\n",
       "      <th>Area_name</th>\n",
       "      <th>Unemployment_rate_2017</th>\n",
       "      <th>Median_Household_Income_2017</th>\n",
       "    </tr>\n",
       "  </thead>\n",
       "  <tbody>\n",
       "    <tr>\n",
       "      <td>0</td>\n",
       "      <td>0</td>\n",
       "      <td>US</td>\n",
       "      <td>United States</td>\n",
       "      <td>4.4</td>\n",
       "      <td>$60,336</td>\n",
       "    </tr>\n",
       "    <tr>\n",
       "      <td>1</td>\n",
       "      <td>1000</td>\n",
       "      <td>AL</td>\n",
       "      <td>Alabama</td>\n",
       "      <td>4.4</td>\n",
       "      <td>$48,193</td>\n",
       "    </tr>\n",
       "    <tr>\n",
       "      <td>2</td>\n",
       "      <td>1001</td>\n",
       "      <td>AL</td>\n",
       "      <td>Autauga County, AL</td>\n",
       "      <td>3.9</td>\n",
       "      <td>$58,343</td>\n",
       "    </tr>\n",
       "    <tr>\n",
       "      <td>3</td>\n",
       "      <td>1003</td>\n",
       "      <td>AL</td>\n",
       "      <td>Baldwin County, AL</td>\n",
       "      <td>4.1</td>\n",
       "      <td>$56,607</td>\n",
       "    </tr>\n",
       "    <tr>\n",
       "      <td>4</td>\n",
       "      <td>1005</td>\n",
       "      <td>AL</td>\n",
       "      <td>Barbour County, AL</td>\n",
       "      <td>5.8</td>\n",
       "      <td>$32,490</td>\n",
       "    </tr>\n",
       "    <tr>\n",
       "      <td>...</td>\n",
       "      <td>...</td>\n",
       "      <td>...</td>\n",
       "      <td>...</td>\n",
       "      <td>...</td>\n",
       "      <td>...</td>\n",
       "    </tr>\n",
       "    <tr>\n",
       "      <td>3191</td>\n",
       "      <td>56037</td>\n",
       "      <td>WY</td>\n",
       "      <td>Sweetwater County, WY</td>\n",
       "      <td>4.5</td>\n",
       "      <td>$75,590</td>\n",
       "    </tr>\n",
       "    <tr>\n",
       "      <td>3192</td>\n",
       "      <td>56039</td>\n",
       "      <td>WY</td>\n",
       "      <td>Teton County, WY</td>\n",
       "      <td>2.8</td>\n",
       "      <td>$90,145</td>\n",
       "    </tr>\n",
       "    <tr>\n",
       "      <td>3193</td>\n",
       "      <td>56041</td>\n",
       "      <td>WY</td>\n",
       "      <td>Uinta County, WY</td>\n",
       "      <td>4.5</td>\n",
       "      <td>$67,404</td>\n",
       "    </tr>\n",
       "    <tr>\n",
       "      <td>3194</td>\n",
       "      <td>56043</td>\n",
       "      <td>WY</td>\n",
       "      <td>Washakie County, WY</td>\n",
       "      <td>4.0</td>\n",
       "      <td>$57,989</td>\n",
       "    </tr>\n",
       "    <tr>\n",
       "      <td>3195</td>\n",
       "      <td>56045</td>\n",
       "      <td>WY</td>\n",
       "      <td>Weston County, WY</td>\n",
       "      <td>4.0</td>\n",
       "      <td>$56,214</td>\n",
       "    </tr>\n",
       "  </tbody>\n",
       "</table>\n",
       "<p>3193 rows × 5 columns</p>\n",
       "</div>"
      ],
      "text/plain": [
       "       FIPS State              Area_name  Unemployment_rate_2017  \\\n",
       "0         0    US          United States                     4.4   \n",
       "1      1000    AL                Alabama                     4.4   \n",
       "2      1001    AL     Autauga County, AL                     3.9   \n",
       "3      1003    AL     Baldwin County, AL                     4.1   \n",
       "4      1005    AL     Barbour County, AL                     5.8   \n",
       "...     ...   ...                    ...                     ...   \n",
       "3191  56037    WY  Sweetwater County, WY                     4.5   \n",
       "3192  56039    WY       Teton County, WY                     2.8   \n",
       "3193  56041    WY       Uinta County, WY                     4.5   \n",
       "3194  56043    WY    Washakie County, WY                     4.0   \n",
       "3195  56045    WY      Weston County, WY                     4.0   \n",
       "\n",
       "     Median_Household_Income_2017  \n",
       "0                        $60,336   \n",
       "1                        $48,193   \n",
       "2                        $58,343   \n",
       "3                        $56,607   \n",
       "4                        $32,490   \n",
       "...                           ...  \n",
       "3191                     $75,590   \n",
       "3192                     $90,145   \n",
       "3193                     $67,404   \n",
       "3194                     $57,989   \n",
       "3195                     $56,214   \n",
       "\n",
       "[3193 rows x 5 columns]"
      ]
     },
     "execution_count": 127,
     "metadata": {},
     "output_type": "execute_result"
    }
   ],
   "source": [
    "df_2017"
   ]
  },
  {
   "cell_type": "code",
   "execution_count": 144,
   "metadata": {},
   "outputs": [],
   "source": [
    "# Remove Dollar Sign and Comma"
   ]
  },
  {
   "cell_type": "code",
   "execution_count": 192,
   "metadata": {},
   "outputs": [],
   "source": [
    "df_2017['Median_Household_Income_2017'] = df_2017.Median_Household_Income_2017.apply(lambda x: x.replace('$',''))\n",
    "df_2017['Median_Household_Income_2017'] = [col.replace(',', '') for col in df_2017.Median_Household_Income_2017]\n",
    "df_2017['Median_Household_Income_2017'] = df_2017['Median_Household_Income_2017'].astype(\"int\")"
   ]
  },
  {
   "cell_type": "code",
   "execution_count": 193,
   "metadata": {},
   "outputs": [
    {
     "data": {
      "text/html": [
       "<div>\n",
       "<style scoped>\n",
       "    .dataframe tbody tr th:only-of-type {\n",
       "        vertical-align: middle;\n",
       "    }\n",
       "\n",
       "    .dataframe tbody tr th {\n",
       "        vertical-align: top;\n",
       "    }\n",
       "\n",
       "    .dataframe thead th {\n",
       "        text-align: right;\n",
       "    }\n",
       "</style>\n",
       "<table border=\"1\" class=\"dataframe\">\n",
       "  <thead>\n",
       "    <tr style=\"text-align: right;\">\n",
       "      <th></th>\n",
       "      <th>FIPS</th>\n",
       "      <th>State</th>\n",
       "      <th>Area_name</th>\n",
       "      <th>Unemployment_rate_2017</th>\n",
       "      <th>Median_Household_Income_2017</th>\n",
       "    </tr>\n",
       "  </thead>\n",
       "  <tbody>\n",
       "    <tr>\n",
       "      <td>0</td>\n",
       "      <td>0</td>\n",
       "      <td>US</td>\n",
       "      <td>United States</td>\n",
       "      <td>4.4</td>\n",
       "      <td>60336</td>\n",
       "    </tr>\n",
       "    <tr>\n",
       "      <td>1</td>\n",
       "      <td>1000</td>\n",
       "      <td>AL</td>\n",
       "      <td>Alabama</td>\n",
       "      <td>4.4</td>\n",
       "      <td>48193</td>\n",
       "    </tr>\n",
       "    <tr>\n",
       "      <td>2</td>\n",
       "      <td>1001</td>\n",
       "      <td>AL</td>\n",
       "      <td>Autauga County, AL</td>\n",
       "      <td>3.9</td>\n",
       "      <td>58343</td>\n",
       "    </tr>\n",
       "    <tr>\n",
       "      <td>3</td>\n",
       "      <td>1003</td>\n",
       "      <td>AL</td>\n",
       "      <td>Baldwin County, AL</td>\n",
       "      <td>4.1</td>\n",
       "      <td>56607</td>\n",
       "    </tr>\n",
       "    <tr>\n",
       "      <td>4</td>\n",
       "      <td>1005</td>\n",
       "      <td>AL</td>\n",
       "      <td>Barbour County, AL</td>\n",
       "      <td>5.8</td>\n",
       "      <td>32490</td>\n",
       "    </tr>\n",
       "    <tr>\n",
       "      <td>...</td>\n",
       "      <td>...</td>\n",
       "      <td>...</td>\n",
       "      <td>...</td>\n",
       "      <td>...</td>\n",
       "      <td>...</td>\n",
       "    </tr>\n",
       "    <tr>\n",
       "      <td>3191</td>\n",
       "      <td>56037</td>\n",
       "      <td>WY</td>\n",
       "      <td>Sweetwater County, WY</td>\n",
       "      <td>4.5</td>\n",
       "      <td>75590</td>\n",
       "    </tr>\n",
       "    <tr>\n",
       "      <td>3192</td>\n",
       "      <td>56039</td>\n",
       "      <td>WY</td>\n",
       "      <td>Teton County, WY</td>\n",
       "      <td>2.8</td>\n",
       "      <td>90145</td>\n",
       "    </tr>\n",
       "    <tr>\n",
       "      <td>3193</td>\n",
       "      <td>56041</td>\n",
       "      <td>WY</td>\n",
       "      <td>Uinta County, WY</td>\n",
       "      <td>4.5</td>\n",
       "      <td>67404</td>\n",
       "    </tr>\n",
       "    <tr>\n",
       "      <td>3194</td>\n",
       "      <td>56043</td>\n",
       "      <td>WY</td>\n",
       "      <td>Washakie County, WY</td>\n",
       "      <td>4.0</td>\n",
       "      <td>57989</td>\n",
       "    </tr>\n",
       "    <tr>\n",
       "      <td>3195</td>\n",
       "      <td>56045</td>\n",
       "      <td>WY</td>\n",
       "      <td>Weston County, WY</td>\n",
       "      <td>4.0</td>\n",
       "      <td>56214</td>\n",
       "    </tr>\n",
       "  </tbody>\n",
       "</table>\n",
       "<p>3193 rows × 5 columns</p>\n",
       "</div>"
      ],
      "text/plain": [
       "       FIPS State              Area_name  Unemployment_rate_2017  \\\n",
       "0         0    US          United States                     4.4   \n",
       "1      1000    AL                Alabama                     4.4   \n",
       "2      1001    AL     Autauga County, AL                     3.9   \n",
       "3      1003    AL     Baldwin County, AL                     4.1   \n",
       "4      1005    AL     Barbour County, AL                     5.8   \n",
       "...     ...   ...                    ...                     ...   \n",
       "3191  56037    WY  Sweetwater County, WY                     4.5   \n",
       "3192  56039    WY       Teton County, WY                     2.8   \n",
       "3193  56041    WY       Uinta County, WY                     4.5   \n",
       "3194  56043    WY    Washakie County, WY                     4.0   \n",
       "3195  56045    WY      Weston County, WY                     4.0   \n",
       "\n",
       "      Median_Household_Income_2017  \n",
       "0                            60336  \n",
       "1                            48193  \n",
       "2                            58343  \n",
       "3                            56607  \n",
       "4                            32490  \n",
       "...                            ...  \n",
       "3191                         75590  \n",
       "3192                         90145  \n",
       "3193                         67404  \n",
       "3194                         57989  \n",
       "3195                         56214  \n",
       "\n",
       "[3193 rows x 5 columns]"
      ]
     },
     "execution_count": 193,
     "metadata": {},
     "output_type": "execute_result"
    }
   ],
   "source": [
    "df_2017"
   ]
  },
  {
   "cell_type": "code",
   "execution_count": null,
   "metadata": {},
   "outputs": [],
   "source": []
  },
  {
   "cell_type": "code",
   "execution_count": 194,
   "metadata": {},
   "outputs": [
    {
     "name": "stdout",
     "output_type": "stream",
     "text": [
      "<class 'pandas.core.frame.DataFrame'>\n",
      "Int64Index: 3193 entries, 0 to 3195\n",
      "Data columns (total 5 columns):\n",
      "FIPS                            3193 non-null int64\n",
      "State                           3193 non-null object\n",
      "Area_name                       3193 non-null object\n",
      "Unemployment_rate_2017          3193 non-null float64\n",
      "Median_Household_Income_2017    3193 non-null int64\n",
      "dtypes: float64(1), int64(2), object(2)\n",
      "memory usage: 149.7+ KB\n"
     ]
    }
   ],
   "source": [
    "df_2017.info()"
   ]
  },
  {
   "cell_type": "code",
   "execution_count": null,
   "metadata": {},
   "outputs": [],
   "source": []
  },
  {
   "cell_type": "code",
   "execution_count": 198,
   "metadata": {},
   "outputs": [
    {
     "data": {
      "text/plain": [
       "<matplotlib.axes._subplots.AxesSubplot at 0x1a2bc7f198>"
      ]
     },
     "execution_count": 198,
     "metadata": {},
     "output_type": "execute_result"
    },
    {
     "data": {
      "image/png": "[encoded data removed]",
      "text/plain": [
       "<Figure size 432x288 with 1 Axes>"
      ]
     },
     "metadata": {
      "needs_background": "light"
     },
     "output_type": "display_data"
    }
   ],
   "source": [
    "df_2017.Median_Household_Income_2017.hist(bins = 20)"
   ]
  },
  {
   "cell_type": "code",
   "execution_count": null,
   "metadata": {},
   "outputs": [],
   "source": []
  }
 ],
 "metadata": {
  "kernelspec": {
   "display_name": "Python 3",
   "language": "python",
   "name": "python3"
  },
  "language_info": {
   "codemirror_mode": {
    "name": "ipython",
    "version": 3
   },
   "file_extension": ".py",
   "mimetype": "text/x-python",
   "name": "python",
   "nbconvert_exporter": "python",
   "pygments_lexer": "ipython3",
   "version": "3.6.9"
  }
 },
 "nbformat": 4,
 "nbformat_minor": 2
}
