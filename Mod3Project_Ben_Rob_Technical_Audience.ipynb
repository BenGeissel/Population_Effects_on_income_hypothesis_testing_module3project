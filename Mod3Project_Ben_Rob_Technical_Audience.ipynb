{
 "cells": [
  {
   "cell_type": "markdown",
   "metadata": {},
   "source": [
    "# Mod 3 Project - County Population Effects on Median Income and Unemployment\n",
    "## Ben Geissel & Rob Hermany\n",
    "## Technical Audience Jupyter Notebook\n",
    "### Load and Visualize Initial Data"
   ]
  },
  {
   "cell_type": "code",
<<<<<<< HEAD
   "execution_count": 1,
=======
   "execution_count": 2,
>>>>>>> origin/master
   "metadata": {},
   "outputs": [],
   "source": [
    "import requests\n",
    "import json\n",
    "import pandas as pd\n",
    "#import geopandas as gpd\n",
    "import numpy as np\n",
    "import matplotlib.pyplot as plt\n",
    "%matplotlib inline\n",
    "import seaborn as sns\n",
    "import csv\n",
    "import math\n",
    "#import descartes\n",
    "#import geoplot\n",
    "#import plotly.figure_factory as ff\n",
    "import scipy.stats as st\n",
    "%reload_ext autoreload\n",
    "%autoreload 2\n",
    "import modules"
   ]
  },
  {
   "cell_type": "code",
<<<<<<< HEAD
   "execution_count": 2,
=======
   "execution_count": 3,
>>>>>>> origin/master
   "metadata": {},
   "outputs": [],
   "source": [
    "pop_df = modules.census_api_data_cleaner()\n",
    "rural_lookup = modules.rural_county_info_cleaner('County_Rural_Lookup.xlsx')\n",
    "binned_pop_df = modules.classify_county_populations(pop_df, rural_lookup)"
   ]
  },
  {
   "cell_type": "code",
<<<<<<< HEAD
   "execution_count": 3,
=======
   "execution_count": 4,
>>>>>>> origin/master
   "metadata": {},
   "outputs": [],
   "source": [
    "employment_df = modules.income_unemployment_cleaner('Unemployment.csv')"
   ]
  },
  {
   "cell_type": "code",
<<<<<<< HEAD
   "execution_count": 4,
=======
   "execution_count": 5,
>>>>>>> origin/master
   "metadata": {},
   "outputs": [],
   "source": [
    "county_df = binned_pop_df.merge(employment_df[['FIPS', 'Unemployment_rate_2017', 'Median_Household_Income_2017']], on = 'FIPS', how = 'inner')"
   ]
  },
  {
   "cell_type": "code",
<<<<<<< HEAD
   "execution_count": 5,
=======
   "execution_count": 6,
>>>>>>> origin/master
   "metadata": {},
   "outputs": [
    {
     "data": {
      "image/png": "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\n",
      "text/plain": [
       "<Figure size 720x360 with 1 Axes>"
      ]
     },
     "metadata": {
      "needs_background": "light"
     },
     "output_type": "display_data"
    }
   ],
   "source": [
    "county_df.Median_Household_Income_2017.hist(bins = 100, grid = False, color = 'Darkblue', alpha = .8, figsize = (10,5));"
   ]
  },
  {
   "cell_type": "code",
<<<<<<< HEAD
   "execution_count": 6,
=======
   "execution_count": 7,
>>>>>>> origin/master
   "metadata": {},
   "outputs": [
    {
     "data": {
      "image/png": "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\n",
      "text/plain": [
       "<Figure size 720x360 with 1 Axes>"
      ]
     },
     "metadata": {
      "needs_background": "light"
     },
     "output_type": "display_data"
    }
   ],
   "source": [
    "county_df.Unemployment_rate_2017.hist(bins = 100, grid = False, color = 'Darkblue', alpha = .8, figsize = (10,5));"
   ]
  },
  {
   "cell_type": "markdown",
   "metadata": {},
   "source": [
    "### Statistics Calculations"
   ]
  },
  {
   "cell_type": "code",
<<<<<<< HEAD
   "execution_count": 7,
=======
   "execution_count": 8,
>>>>>>> origin/master
   "metadata": {},
   "outputs": [],
   "source": [
    "pop_income_mean, pop_income_std, pop_UE_mean, pop_UE_std = modules.calculate_means_stds(county_df)"
   ]
  },
  {
   "cell_type": "code",
<<<<<<< HEAD
   "execution_count": 8,
=======
   "execution_count": 9,
>>>>>>> origin/master
   "metadata": {},
   "outputs": [],
   "source": [
    "\n",
    "urban_county_df = county_df.loc[county_df.pop_category == 'Urban']\n",
    "mix_county_df = county_df.loc[county_df.pop_category == 'Mix/Suburban']\n",
    "rural_county_df = county_df.loc[county_df.pop_category == 'Rural']"
   ]
  },
  {
   "cell_type": "code",
<<<<<<< HEAD
   "execution_count": 9,
=======
   "execution_count": 10,
>>>>>>> origin/master
   "metadata": {},
   "outputs": [],
   "source": [
    "urban_income_mean, urban_income_std, urban_UE_mean, urban_UE_std = modules.calculate_means_stds(urban_county_df)\n",
    "mix_income_mean, mix_income_std, mix_UE_mean, mix_UE_std = modules.calculate_means_stds(mix_county_df)\n",
    "rural_income_mean, rural_income_std, rural_UE_mean, rural_UE_std = modules.calculate_means_stds(rural_county_df)"
   ]
  },
  {
   "cell_type": "code",
<<<<<<< HEAD
   "execution_count": 10,
=======
   "execution_count": 11,
>>>>>>> origin/master
   "metadata": {},
   "outputs": [],
   "source": [
    "urban_count = urban_county_df.shape[0]\n",
    "mix_count = mix_county_df.shape[0]\n",
    "rural_count = rural_county_df.shape[0]"
   ]
  },
  {
   "cell_type": "markdown",
   "metadata": {},
   "source": [
    "## Hypothesis Testing\n",
    "We assume a default alpha of 0.05\n",
    "\n",
    "### Urban Hypotheses"
   ]
  },
  {
   "cell_type": "markdown",
   "metadata": {},
   "source": [
    "Null Hypothesis: County median income is not affected by urban populations (pop_mean == urban_mean)  \n",
    "Alternative Hypothesis: County median income is affected by urban populations (pop_mean != urban_mean)\n",
    "\n",
    "\n",
    "Null Hypothesis: County unemployment rate is not affected by urban populations (pop_mean == urban_mean)  \n",
    "Alternative Hypothesis: County unemployment rate is affected by urban populations (pop_mean != urban_mean)"
   ]
  },
  {
   "cell_type": "markdown",
   "metadata": {},
   "source": [
    "#### Urban Median Income"
   ]
  },
  {
   "cell_type": "code",
<<<<<<< HEAD
   "execution_count": 11,
=======
   "execution_count": 12,
>>>>>>> origin/master
   "metadata": {},
   "outputs": [
    {
     "name": "stdout",
     "output_type": "stream",
     "text": [
      "mu:  51090.52944921999\n",
      "sigma:  13497.965734376774\n",
      "x_bar:  60977.04069767442\n"
     ]
    }
   ],
   "source": [
    "print('mu: ', pop_income_mean)\n",
    "print('sigma: ', pop_income_std)\n",
    "print('x_bar: ', urban_income_mean)"
   ]
  },
  {
   "cell_type": "code",
<<<<<<< HEAD
   "execution_count": 12,
=======
   "execution_count": 13,
>>>>>>> origin/master
   "metadata": {},
   "outputs": [
    {
     "name": "stdout",
     "output_type": "stream",
     "text": [
      "z-stat:  0.7324445359403565\n",
      "p-value:  0.23194864207897847\n",
      "\n",
      "Fail to Reject Null Hypothesis\n"
     ]
    }
   ],
   "source": [
    "urban_inc_z, urban_inc_p = modules.z_test(urban_income_mean, pop_income_mean, pop_income_std)\n",
    "print('z-stat: ', urban_inc_z)\n",
    "print('p-value: ', urban_inc_p)\n",
    "print()\n",
    "modules.hypothesis(urban_inc_p)"
   ]
  },
  {
   "cell_type": "markdown",
   "metadata": {},
   "source": [
    "#### Urban Unemployment Rate"
   ]
  },
  {
   "cell_type": "code",
<<<<<<< HEAD
   "execution_count": 13,
=======
   "execution_count": 14,
>>>>>>> origin/master
   "metadata": {},
   "outputs": [
    {
     "name": "stdout",
     "output_type": "stream",
     "text": [
      "mu:  4.597739573384272\n",
      "sigma:  1.6684744501355435\n",
      "x_bar:  4.351162790697674\n"
     ]
    }
   ],
   "source": [
    "print('mu: ', pop_UE_mean)\n",
    "print('sigma: ', pop_UE_std)\n",
    "print('x_bar: ', urban_UE_mean)"
   ]
  },
  {
   "cell_type": "code",
<<<<<<< HEAD
   "execution_count": 14,
=======
   "execution_count": 15,
>>>>>>> origin/master
   "metadata": {},
   "outputs": [
    {
     "name": "stdout",
     "output_type": "stream",
     "text": [
      "z-stat:  -0.14778577080791794\n",
      "p-value:  0.5587440803636134\n",
      "\n",
      "Fail to Reject Null Hypothesis\n"
     ]
    }
   ],
   "source": [
    "urban_UE_z, urban_UE_p = modules.z_test(urban_UE_mean, pop_UE_mean, pop_UE_std)\n",
    "print('z-stat: ', urban_UE_z)\n",
    "print('p-value: ', urban_UE_p)\n",
    "print()\n",
    "modules.hypothesis(urban_UE_p)"
   ]
  },
  {
   "cell_type": "markdown",
   "metadata": {},
   "source": [
    "### Mix/Suburban Hypotheses"
   ]
  },
  {
   "cell_type": "markdown",
   "metadata": {},
   "source": [
    "Null Hypothesis: County median income is not affected by mix/suburban populations (pop_mean == mix_mean)  \n",
    "Alternative Hypothesis: County median income is affected by mix/suburban populations (pop_mean != mix_mean)\n",
    "\n",
    "\n",
    "Null Hypothesis: County unemployment rate is not affected by mix/suburban populations (pop_mean == mix_mean)  \n",
    "Alternative Hypothesis: County unemployment rate is affected by mix/suburban populations (pop_mean != mix_mean)"
   ]
  },
  {
   "cell_type": "code",
   "execution_count": 16,
   "metadata": {},
   "outputs": [
    {
     "name": "stdout",
     "output_type": "stream",
     "text": [
      "mu:  51090.52944921999\n",
      "sigma:  13497.965734376774\n",
      "x_bar:  60977.04069767442\n"
     ]
    }
   ],
   "source": [
    "print('mu: ', pop_income_mean)\n",
    "print('sigma: ', pop_income_std)\n",
    "print('x_bar: ', urban_income_mean)"
   ]
  },
  {
   "cell_type": "code",
   "execution_count": 17,
   "metadata": {},
   "outputs": [
    {
     "name": "stdout",
     "output_type": "stream",
     "text": [
      "z-stat:  -0.06840324302897773\n",
      "p-value:  0.5272676798423235\n",
      "\n",
      "Fail to Reject Null Hypothesis\n"
     ]
    }
   ],
   "source": [
    "mix_inc_z, mix_inc_p = modules.z_test(mix_income_mean, pop_income_mean, pop_income_std)\n",
    "print('z-stat: ', mix_inc_z)\n",
    "print('p-value: ', mix_inc_p)\n",
    "print()\n",
    "modules.hypothesis(mix_inc_p)"
   ]
  },
  {
   "cell_type": "code",
   "execution_count": 20,
   "metadata": {},
   "outputs": [
    {
     "name": "stdout",
     "output_type": "stream",
     "text": [
      "z-stat:  0.007005385881765204\n",
      "p-value:  0.4972052782399513\n",
      "\n",
      "Fail to Reject Null Hypothesis\n"
     ]
    }
   ],
   "source": [
    "mix_UE_z, mix_UE_p = modules.z_test(mix_UE_mean, pop_UE_mean, pop_UE_std)\n",
    "print('z-stat: ', mix_UE_z)\n",
    "print('p-value: ', mix_UE_p)\n",
    "print()\n",
    "modules.hypothesis(mix_UE_p)"
   ]
  },
  {
   "cell_type": "markdown",
   "metadata": {},
   "source": [
    "### Rural Hypotheses"
   ]
  },
  {
   "cell_type": "markdown",
   "metadata": {},
   "source": [
    "Null Hypothesis: County median income is not affected by rural populations (pop_mean == rural_mean)  \n",
    "Alternative Hypothesis: County median income is affected by rural populations (pop_mean != rural_mean)\n",
    "\n",
    "\n",
    "Null Hypothesis: County unemployment rate is not affected by rural populations (pop_mean == rural_mean)  \n",
    "Alternative Hypothesis: County unemployment rate is affected by rural populations (pop_mean != rural_mean)"
   ]
  },
  {
   "cell_type": "markdown",
   "metadata": {},
   "source": [
    "#### Rural Median Income"
   ]
  },
  {
   "cell_type": "code",
   "execution_count": 16,
   "metadata": {},
   "outputs": [
    {
     "name": "stdout",
     "output_type": "stream",
     "text": [
      "mu:  51090.52944921999\n",
      "sigma:  13497.965734376774\n",
      "x_bar:  46423.78135313532\n"
     ]
    }
   ],
   "source": [
    "print('mu: ', pop_income_mean)\n",
    "print('sigma: ', pop_income_std)\n",
    "print('x_bar: ', rural_income_mean)"
   ]
  },
  {
   "cell_type": "code",
   "execution_count": 17,
   "metadata": {},
   "outputs": [
    {
     "name": "stdout",
     "output_type": "stream",
     "text": [
      "z-stat:  -0.3457371420198042\n",
      "p-value:  0.6352298658255482\n",
      "\n",
      "Fail to Reject Null Hypothesis\n"
     ]
    }
   ],
   "source": [
    "rural_inc_z, rural_inc_p = modules.z_test(rural_income_mean, pop_income_mean, pop_income_std)\n",
    "print('z-stat: ', rural_inc_z)\n",
    "print('p-value: ', rural_inc_p)\n",
    "print()\n",
    "modules.hypothesis(rural_inc_p)"
   ]
  },
  {
   "cell_type": "markdown",
   "metadata": {},
   "source": [
    "#### Rural Unemployment Rate"
   ]
  },
  {
   "cell_type": "code",
   "execution_count": 18,
   "metadata": {},
   "outputs": [
    {
     "name": "stdout",
     "output_type": "stream",
     "text": [
      "mu:  4.597739573384272\n",
      "sigma:  1.6684744501355435\n",
      "x_bar:  4.725742574257426\n"
     ]
    }
   ],
   "source": [
    "print('mu: ', pop_UE_mean)\n",
    "print('sigma: ', pop_UE_std)\n",
    "print('x_bar: ', rural_UE_mean)"
   ]
  },
  {
   "cell_type": "code",
   "execution_count": 19,
   "metadata": {},
   "outputs": [
    {
     "name": "stdout",
     "output_type": "stream",
     "text": [
      "z-stat:  0.07671858616879325\n",
      "p-value:  0.46942370924611354\n",
      "\n",
      "Fail to Reject Null Hypothesis\n"
     ]
    }
   ],
   "source": [
    "rural_UE_z, rural_UE_p = modules.z_test(rural_UE_mean, pop_UE_mean, pop_UE_std)\n",
    "print('z-stat: ', rural_UE_z)\n",
    "print('p-value: ', rural_UE_p)\n",
    "print()\n",
    "modules.hypothesis(rural_UE_p)"
   ]
  }
 ],
 "metadata": {
  "kernelspec": {
   "display_name": "Python 3",
   "language": "python",
   "name": "python3"
  },
  "language_info": {
   "codemirror_mode": {
    "name": "ipython",
    "version": 3
   },
   "file_extension": ".py",
   "mimetype": "text/x-python",
   "name": "python",
   "nbconvert_exporter": "python",
   "pygments_lexer": "ipython3",
   "version": "3.6.9"
  }
 },
 "nbformat": 4,
 "nbformat_minor": 4
}
