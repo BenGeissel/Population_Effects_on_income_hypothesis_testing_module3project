{
 "cells": [
  {
   "cell_type": "code",
   "execution_count": 1,
   "metadata": {},
   "outputs": [],
   "source": [
    "import requests\n",
    "import json\n",
    "import pandas as pd\n",
    "#import geopandas as gpd\n",
    "import numpy as np\n",
    "import matplotlib.pyplot as plt\n",
    "%matplotlib inline\n",
    "import seaborn as sns\n",
    "import csv\n",
    "import math\n",
    "#import descartes\n",
    "#import geoplot\n",
    "#import plotly.figure_factory as ff\n",
    "import scipy.stats as st\n",
    "%reload_ext autoreload\n",
    "%autoreload 2\n",
    "import modules"
   ]
  },
  {
   "cell_type": "code",
   "execution_count": 2,
   "metadata": {},
   "outputs": [],
   "source": [
    "pop_df = modules.census_api_data_cleaner()\n",
    "rural_lookup = modules.rural_county_info_cleaner('County_Rural_Lookup.xlsx')\n",
    "binned_pop_df = modules.classify_county_populations(pop_df, rural_lookup)"
   ]
  },
  {
   "cell_type": "code",
   "execution_count": 4,
   "metadata": {},
   "outputs": [],
   "source": [
    "employment_df = modules.income_unemployment_cleaner('Unemployment.csv')"
   ]
  },
  {
   "cell_type": "code",
   "execution_count": 6,
   "metadata": {},
   "outputs": [
    {
     "data": {
      "text/html": [
       "<div>\n",
       "<style scoped>\n",
       "    .dataframe tbody tr th:only-of-type {\n",
       "        vertical-align: middle;\n",
       "    }\n",
       "\n",
       "    .dataframe tbody tr th {\n",
       "        vertical-align: top;\n",
       "    }\n",
       "\n",
       "    .dataframe thead th {\n",
       "        text-align: right;\n",
       "    }\n",
       "</style>\n",
       "<table border=\"1\" class=\"dataframe\">\n",
       "  <thead>\n",
       "    <tr style=\"text-align: right;\">\n",
       "      <th></th>\n",
       "      <th>POP</th>\n",
       "      <th>FIPS</th>\n",
       "      <th>County_State</th>\n",
       "      <th>Percent_Rural</th>\n",
       "      <th>pop_category</th>\n",
       "      <th>Unemployment_rate_2017</th>\n",
       "      <th>Median_Household_Income_2017</th>\n",
       "    </tr>\n",
       "  </thead>\n",
       "  <tbody>\n",
       "    <tr>\n",
       "      <td>0</td>\n",
       "      <td>55601</td>\n",
       "      <td>01001</td>\n",
       "      <td>Autauga County, Alabama</td>\n",
       "      <td>42.002162</td>\n",
       "      <td>Mix/Suburban</td>\n",
       "      <td>3</td>\n",
       "      <td>58343</td>\n",
       "    </tr>\n",
       "    <tr>\n",
       "      <td>1</td>\n",
       "      <td>218022</td>\n",
       "      <td>01003</td>\n",
       "      <td>Baldwin County, Alabama</td>\n",
       "      <td>42.279099</td>\n",
       "      <td>Mix/Suburban</td>\n",
       "      <td>4</td>\n",
       "      <td>56607</td>\n",
       "    </tr>\n",
       "    <tr>\n",
       "      <td>2</td>\n",
       "      <td>24881</td>\n",
       "      <td>01005</td>\n",
       "      <td>Barbour County, Alabama</td>\n",
       "      <td>67.789635</td>\n",
       "      <td>Mix/Suburban</td>\n",
       "      <td>5</td>\n",
       "      <td>32490</td>\n",
       "    </tr>\n",
       "    <tr>\n",
       "      <td>3</td>\n",
       "      <td>22400</td>\n",
       "      <td>01007</td>\n",
       "      <td>Bibb County, Alabama</td>\n",
       "      <td>68.352607</td>\n",
       "      <td>Mix/Suburban</td>\n",
       "      <td>4</td>\n",
       "      <td>45795</td>\n",
       "    </tr>\n",
       "    <tr>\n",
       "      <td>4</td>\n",
       "      <td>57840</td>\n",
       "      <td>01009</td>\n",
       "      <td>Blount County, Alabama</td>\n",
       "      <td>89.951502</td>\n",
       "      <td>Rural</td>\n",
       "      <td>4</td>\n",
       "      <td>48253</td>\n",
       "    </tr>\n",
       "  </tbody>\n",
       "</table>\n",
       "</div>"
      ],
      "text/plain": [
       "      POP   FIPS             County_State  Percent_Rural  pop_category  \\\n",
       "0   55601  01001  Autauga County, Alabama      42.002162  Mix/Suburban   \n",
       "1  218022  01003  Baldwin County, Alabama      42.279099  Mix/Suburban   \n",
       "2   24881  01005  Barbour County, Alabama      67.789635  Mix/Suburban   \n",
       "3   22400  01007     Bibb County, Alabama      68.352607  Mix/Suburban   \n",
       "4   57840  01009   Blount County, Alabama      89.951502         Rural   \n",
       "\n",
       "   Unemployment_rate_2017  Median_Household_Income_2017  \n",
       "0                       3                         58343  \n",
       "1                       4                         56607  \n",
       "2                       5                         32490  \n",
       "3                       4                         45795  \n",
       "4                       4                         48253  "
      ]
     },
     "execution_count": 6,
     "metadata": {},
     "output_type": "execute_result"
    }
   ],
   "source": [
    "county_df = binned_pop_df.merge(employment_df[['FIPS', 'Unemployment_rate_2017', 'Median_Household_Income_2017']], on = 'FIPS', how = 'inner')\n",
    "county_df.head()"
   ]
  },
  {
   "cell_type": "code",
   "execution_count": null,
   "metadata": {},
   "outputs": [],
   "source": []
  }
 ],
 "metadata": {
  "kernelspec": {
   "display_name": "Python 3",
   "language": "python",
   "name": "python3"
  },
  "language_info": {
   "codemirror_mode": {
    "name": "ipython",
    "version": 3
   },
   "file_extension": ".py",
   "mimetype": "text/x-python",
   "name": "python",
   "nbconvert_exporter": "python",
   "pygments_lexer": "ipython3",
   "version": "3.6.9"
  }
 },
 "nbformat": 4,
 "nbformat_minor": 4
}
